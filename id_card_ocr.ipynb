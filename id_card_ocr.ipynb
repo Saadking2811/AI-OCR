{
  "cells": [
    {
      "cell_type": "code",
      "source": [
        "!pip install pytesseract\n",
        "!sudo apt-get install tesseract-ocr\n",
        "!pip install opencv-python\n",
        "#to add the arabic language\n",
        "! wget https://raw.githubusercontent.com/tesseract-ocr/tessdata_best/master/ara.traineddata\n",
        "! sudo mv \"/content/ara.traineddata\" \"/usr/share/tesseract-ocr/4.00/tessdata\""
      ],
      "metadata": {
        "id": "9ZzHnDRc6HMj",
        "outputId": "f4987951-351b-4f95-d9d7-9a1006662b1d",
        "colab": {
          "base_uri": "https://localhost:8080/"
        }
      },
      "execution_count": null,
      "outputs": [
        {
          "output_type": "stream",
          "name": "stdout",
          "text": [
            "Collecting pytesseract\n",
            "  Downloading pytesseract-0.3.13-py3-none-any.whl.metadata (11 kB)\n",
            "Requirement already satisfied: packaging>=21.3 in /usr/local/lib/python3.10/dist-packages (from pytesseract) (24.2)\n",
            "Requirement already satisfied: Pillow>=8.0.0 in /usr/local/lib/python3.10/dist-packages (from pytesseract) (11.0.0)\n",
            "Downloading pytesseract-0.3.13-py3-none-any.whl (14 kB)\n",
            "Installing collected packages: pytesseract\n",
            "Successfully installed pytesseract-0.3.13\n",
            "Reading package lists... Done\n",
            "Building dependency tree... Done\n",
            "Reading state information... Done\n",
            "The following additional packages will be installed:\n",
            "  tesseract-ocr-eng tesseract-ocr-osd\n",
            "The following NEW packages will be installed:\n",
            "  tesseract-ocr tesseract-ocr-eng tesseract-ocr-osd\n",
            "0 upgraded, 3 newly installed, 0 to remove and 49 not upgraded.\n",
            "Need to get 4,816 kB of archives.\n",
            "After this operation, 15.6 MB of additional disk space will be used.\n",
            "Get:1 http://archive.ubuntu.com/ubuntu jammy/universe amd64 tesseract-ocr-eng all 1:4.00~git30-7274cfa-1.1 [1,591 kB]\n",
            "Get:2 http://archive.ubuntu.com/ubuntu jammy/universe amd64 tesseract-ocr-osd all 1:4.00~git30-7274cfa-1.1 [2,990 kB]\n",
            "Get:3 http://archive.ubuntu.com/ubuntu jammy/universe amd64 tesseract-ocr amd64 4.1.1-2.1build1 [236 kB]\n",
            "Fetched 4,816 kB in 1s (5,364 kB/s)\n",
            "debconf: unable to initialize frontend: Dialog\n",
            "debconf: (No usable dialog-like program is installed, so the dialog based frontend cannot be used. at /usr/share/perl5/Debconf/FrontEnd/Dialog.pm line 78, <> line 3.)\n",
            "debconf: falling back to frontend: Readline\n",
            "debconf: unable to initialize frontend: Readline\n",
            "debconf: (This frontend requires a controlling tty.)\n",
            "debconf: falling back to frontend: Teletype\n",
            "dpkg-preconfigure: unable to re-open stdin: \n",
            "Selecting previously unselected package tesseract-ocr-eng.\n",
            "(Reading database ... 123630 files and directories currently installed.)\n",
            "Preparing to unpack .../tesseract-ocr-eng_1%3a4.00~git30-7274cfa-1.1_all.deb ...\n",
            "Unpacking tesseract-ocr-eng (1:4.00~git30-7274cfa-1.1) ...\n",
            "Selecting previously unselected package tesseract-ocr-osd.\n",
            "Preparing to unpack .../tesseract-ocr-osd_1%3a4.00~git30-7274cfa-1.1_all.deb ...\n",
            "Unpacking tesseract-ocr-osd (1:4.00~git30-7274cfa-1.1) ...\n",
            "Selecting previously unselected package tesseract-ocr.\n",
            "Preparing to unpack .../tesseract-ocr_4.1.1-2.1build1_amd64.deb ...\n",
            "Unpacking tesseract-ocr (4.1.1-2.1build1) ...\n",
            "Setting up tesseract-ocr-eng (1:4.00~git30-7274cfa-1.1) ...\n",
            "Setting up tesseract-ocr-osd (1:4.00~git30-7274cfa-1.1) ...\n",
            "Setting up tesseract-ocr (4.1.1-2.1build1) ...\n",
            "Processing triggers for man-db (2.10.2-1) ...\n",
            "Requirement already satisfied: opencv-python in /usr/local/lib/python3.10/dist-packages (4.10.0.84)\n",
            "Requirement already satisfied: numpy>=1.21.2 in /usr/local/lib/python3.10/dist-packages (from opencv-python) (1.26.4)\n",
            "--2024-11-30 23:13:38--  https://raw.githubusercontent.com/tesseract-ocr/tessdata_best/master/ara.traineddata\n",
            "Resolving raw.githubusercontent.com (raw.githubusercontent.com)... 185.199.109.133, 185.199.108.133, 185.199.111.133, ...\n",
            "Connecting to raw.githubusercontent.com (raw.githubusercontent.com)|185.199.109.133|:443... connected.\n",
            "HTTP request sent, awaiting response... 200 OK\n",
            "Length: 12603724 (12M) [application/octet-stream]\n",
            "Saving to: ‘ara.traineddata’\n",
            "\n",
            "ara.traineddata     100%[===================>]  12.02M  --.-KB/s    in 0.08s   \n",
            "\n",
            "2024-11-30 23:13:38 (157 MB/s) - ‘ara.traineddata’ saved [12603724/12603724]\n",
            "\n"
          ]
        }
      ]
    },
    {
      "cell_type": "code",
      "source": [
        "!pip install pdf2image\n",
        "!apt-get install poppler-utils"
      ],
      "metadata": {
        "colab": {
          "base_uri": "https://localhost:8080/"
        },
        "id": "bzt19TKAazvt",
        "outputId": "a4dd1b87-8f34-4f8c-810a-aa81146b9b39"
      },
      "execution_count": null,
      "outputs": [
        {
          "output_type": "stream",
          "name": "stdout",
          "text": [
            "Requirement already satisfied: pdf2image in /usr/local/lib/python3.10/dist-packages (1.17.0)\n",
            "Requirement already satisfied: pillow in /usr/local/lib/python3.10/dist-packages (from pdf2image) (11.0.0)\n",
            "Reading package lists... Done\n",
            "Building dependency tree... Done\n",
            "Reading state information... Done\n",
            "The following NEW packages will be installed:\n",
            "  poppler-utils\n",
            "0 upgraded, 1 newly installed, 0 to remove and 49 not upgraded.\n",
            "Need to get 186 kB of archives.\n",
            "After this operation, 696 kB of additional disk space will be used.\n",
            "Get:1 http://archive.ubuntu.com/ubuntu jammy-updates/main amd64 poppler-utils amd64 22.02.0-2ubuntu0.5 [186 kB]\n",
            "Fetched 186 kB in 0s (401 kB/s)\n",
            "Selecting previously unselected package poppler-utils.\n",
            "(Reading database ... 123677 files and directories currently installed.)\n",
            "Preparing to unpack .../poppler-utils_22.02.0-2ubuntu0.5_amd64.deb ...\n",
            "Unpacking poppler-utils (22.02.0-2ubuntu0.5) ...\n",
            "Setting up poppler-utils (22.02.0-2ubuntu0.5) ...\n",
            "Processing triggers for man-db (2.10.2-1) ...\n"
          ]
        }
      ]
    },
    {
      "metadata": {
        "_uuid": "d629ff2d2480ee46fbb7e2d37f6b5fab8052498a",
        "_cell_guid": "79c7e3d0-c299-4dcb-8224-4455121ee9b0",
        "trusted": true,
        "id": "ZOI9FQKl5i5F"
      },
      "cell_type": "code",
      "source": [
        "import pytesseract\n",
        "from pytesseract import Output\n",
        "from pdf2image import convert_from_path\n",
        "from PIL import Image\n",
        "import cv2\n",
        "import matplotlib.pyplot as plt\n",
        "import re\n",
        "plt.rcParams[\"figure.figsize\"] = (20,20)"
      ],
      "execution_count": null,
      "outputs": []
    },
    {
      "metadata": {
        "trusted": true,
        "id": "8S81n8Fr5i5I"
      },
      "cell_type": "code",
      "source": [
        "pdf_path = 'check_secour.pdf'\n",
        "pages = convert_from_path(pdf_path, 300)"
      ],
      "execution_count": null,
      "outputs": []
    },
    {
      "cell_type": "code",
      "source": [
        "img = Image.open('ccp.png')"
      ],
      "metadata": {
        "id": "8Wj0XP54e2gt"
      },
      "execution_count": null,
      "outputs": []
    },
    {
      "cell_type": "code",
      "source": [
        "res = pytesseract.image_to_string( img,lang='ara+eng')\n",
        "print(res)"
      ],
      "metadata": {
        "colab": {
          "base_uri": "https://localhost:8080/"
        },
        "id": "S8dePvwpegs0",
        "outputId": "a8a3aff9-61b1-4277-ddfb-7b892037c7c7"
      },
      "execution_count": null,
      "outputs": [
        {
          "output_type": "stream",
          "name": "stdout",
          "text": [
            "  \n",
            "\n",
            "116201600576 SEE\"\n",
            "\n",
            "cing milles deux cents dinars Aarne\n",
            "moi mém 8\n",
            "Boumerdes 1e 30.08.2014 4\n",
            "00020\n",
            "‏عدم سر‎\n",
            "\n",
            "RENE oF RENEE ONS LAZO ANE EDD JAD ‏الزماء غم‎\n",
            "\n",
            "007999;\n",
            "\n",
            "or\n",
            "\n",
            "ل\n",
            "\n",
            " \n",
            "\n",
            "2410\n",
            "\n",
            "مي\n",
            "\n",
            "Payez, contre ce cheque\n",
            "\n",
            "AVordre de\n",
            "\n",
            " \n",
            "\n",
            "عم\n",
            "\n",
            "Payable\n",
            "Agence 99999\n",
            "CNCP Cente National ds\n",
            "(Chagos Posts)\n",
            "T,Avene der Novembre\n",
            "T3407 Ales\n",
            "\n",
            " \n",
            "\n",
            " \n",
            "\n",
            "3245101\n",
            "\f\n"
          ]
        }
      ]
    },
    {
      "cell_type": "code",
      "source": [
        "for page_num, page in enumerate(pages):\n",
        "    text = pytesseract.image_to_string(page ,lang='ara+eng')\n",
        "    print(f\"Page {page_num + 1} Text: \\n{text}\")"
      ],
      "metadata": {
        "colab": {
          "base_uri": "https://localhost:8080/"
        },
        "id": "v8941fhcbyaw",
        "outputId": "e9c07e1a-582e-438b-cae7-a792c3f54a99"
      },
      "execution_count": null,
      "outputs": [
        {
          "output_type": "stream",
          "name": "stdout",
          "text": [
            "Page 1 Text: \n",
            "SFP 01\n",
            "\n",
            "Cle\n",
            "‏المفتاح‎\n",
            "\n",
            " \n",
            "\n",
            " \n",
            "\n",
            "Bol\n",
            ") ‏بالأرقام‎ (\n",
            "\n",
            " \n",
            "\n",
            "بالحروف\n",
            "\n",
            "Cle\n",
            "‏المفتاح‎\n",
            "\n",
            " \n",
            "\n",
            " \n",
            "\n",
            " \n",
            "\n",
            "اللقب :\n",
            "الإسم :\n",
            "العنوان : :\n",
            "رقم الهاتف المحمول ......\n",
            "\n",
            "Date ‏التاريخ‎\n",
            "‎2 2\n",
            "\n",
            " \n",
            "\n",
            " \n",
            "\n",
            "Visa de l’agent payeur\n",
            "‏تأشيرة العون المكلف بالدفع‎\n",
            "\n",
            " \n",
            "\n",
            " \n",
            "\n",
            " \n",
            "\n",
            "-\n",
            "5\n",
            "ALGERIE POSTE\n",
            "\n",
            " \n",
            "\n",
            "Montant «)\n",
            "(en chiffres)\n",
            "\n",
            " \n",
            "\n",
            "On lettres ‏مي‎\n",
            "\n",
            "Bénéficiaire (3) Compte N°\n",
            "‏حساب رقم المستفيد‎\n",
            "\n",
            "م 1 017ل\n",
            "م نت 1 [60007]9مط\n",
            "‎NG ee‏\n",
            "\n",
            "Numéro de portable: .......................\n",
            "\n",
            "Signature (1)\n",
            "‏الإمضاء‎\n",
            "\n",
            "T.A.D\n",
            "‏اريخ‎ LI o>\n",
            "\n",
            "(3) Obligatoire dans le cas d'un versement ‏إجباري في حالة الدفع‎\n",
            "\n",
            "لا\n",
            "\n",
            "Numéro d’émission du mandat. (1) Compte n°\n",
            "‏حساب رقم رقم إصدار الحوالة‎\n",
            "\n",
            " \n",
            "\n",
            " \n",
            "\n",
            ">\" Retrait Demande de solde 2\n",
            "‏طلب الرصيد سحب‎\n",
            "‏ل‎ Virement de compte a compte Commande de carnet\n",
            "pl ‏طلب دفتر | لصكوك التحويل من حساب إلى حساب‎\n",
            ">\" Versement CCP Relevé des opérations\n",
            "‏كشف العمليات دفع في حساب جاري‎\n",
            "[) Emission Mandat du. /..f/... auf Jo.\n",
            "‏إصدار حوالة‎ fof ‏من .../.../ر... إلى‎\n",
            ">\" Demande R.L.P (relevé d'identité postale) Demande code confidentiel CCP\n",
            "‏طلب الرمز السري للحساب طلب كشف الهوية البريدية‎\n",
            "\n",
            "(3) Expéditeur / Donneur d’ordre ‏المرسل / الآمر بالدفع‎\n",
            "\n",
            "اللقب : ...م ا 1 ‎NOM‏\n",
            "‏الإسم : ....... .يت 1 ‎Prénom[s)‏\n",
            "‏العنوان : ........ .ا ا 1 129596\n",
            "رقم الهاتف المحمول : ............ ...0.2.0.0 : ‎Numéro de portable‏\n",
            "البريد الإلكترون :و جد جح ا ا 5\n",
            "\n",
            "(3) Motif / Correspondance ‏الموضوع / المراسلة‎\n",
            "\n",
            "Description piéce d’identité ‏بيانات بطاقة الهوبة‎\n",
            "\n",
            "Pll: N°:\n",
            "\n",
            " \n",
            "\n",
            " \n",
            "\n",
            " \n",
            "\n",
            " \n",
            "\n",
            "Délivré[e} lee tte! Cla Gyo\n",
            "\n",
            "‎cy‏ ا\n",
            "\n",
            "‎(1) Obligatoire syle! (2) Cocher la oules cases ‏إشطب الخانة أو الخانات‎\n",
            "\n",
            "‎ \n",
            "\n",
            "‎ \n",
            "\n",
            "‎ \n",
            "\n",
            "‎ \n",
            "\n",
            "‎ \n",
            "\n",
            "‎ \n",
            "\n",
            "‎ \n",
            "\n",
            "‎ \n",
            "\n",
            "‎ \n",
            "\n",
            "‎ \n",
            "\n",
            "‎ \n",
            "\n",
            "‎ \n",
            "\n",
            "‎ \n",
            "\n",
            "‎ \n",
            "\n",
            "‎ \n",
            "\n",
            "‎ \n",
            "\n",
            "‎ \n",
            "\f\n"
          ]
        }
      ]
    },
    {
      "metadata": {
        "id": "pMk-bX_x5i5S"
      },
      "cell_type": "markdown",
      "source": [
        "## 2. Text Template Matching"
      ]
    },
    {
      "metadata": {
        "trusted": true,
        "id": "gvB8J23t5i5T",
        "outputId": "c8f54fcf-2ea1-4296-ed20-f14113130d1e",
        "colab": {
          "base_uri": "https://localhost:8080/"
        }
      },
      "cell_type": "code",
      "source": [
        "patterns = {\n",
        "    \"Authority\": r\"سلطة الإصدار:\\s*(.+)\",\n",
        "    \"Issue Date\": r\"تاريخ الإصدار:\\s*(\\d{4}\\.\\d{2}\\.\\d{2})\",\n",
        "    \"Expiry Date\": r\"تاريخ الإنتهاء:\\s*(\\d{4}\\.\\d{2}\\.\\d{2})\",\n",
        "    \"National ID\": r\"رقم التعريف الوطني:\\s*(\\d+)\",\n",
        "    \"Last Name\": r\"اللتب:\\s*(.+)\",\n",
        "    \"First Name\": r\"الإسم:\\s*(.+)\",\n",
        "    \"Date of Birth\": r\"تاريخ الميلاد:\\s*(\\d{4}\\.\\d{2}\\.\\d{2})\",\n",
        "    \"Gender\": r\"الجنس:\\s*(\\S+)\",\n",
        "    \"Place of Birth\": r\"مكان الميلاد:\\s*(.+)\",\n",
        "    \"Rh\": r\"Rh:\\s*([ABO+-]+)\",\n",
        "}\n",
        "\n",
        "# Extract data into a dictionary\n",
        "data = {}\n",
        "for key, pattern in patterns.items():\n",
        "    match = re.search(pattern, result_ar_en)\n",
        "    if match:\n",
        "        data[key] = match.group(1).strip()\n",
        "\n",
        "# Print the extracted data\n",
        "print(data)"
      ],
      "execution_count": null,
      "outputs": [
        {
          "output_type": "stream",
          "name": "stdout",
          "text": [
            "{'Authority': 'الرويسات-ورقلة', 'Issue Date': '2021.03.25', 'National ID': '109911090003510003', 'First Name': 'عباس', 'Date of Birth': '1991.04.27', 'Gender': 'ذكر', 'Place of Birth': 'الروييسنات', 'Rh': 'A+'}\n"
          ]
        }
      ]
    },
    {
      "cell_type": "code",
      "source": [],
      "metadata": {
        "id": "gOe2ddYjBOLW"
      },
      "execution_count": null,
      "outputs": []
    }
  ],
  "metadata": {
    "kernelspec": {
      "language": "python",
      "display_name": "Python 3",
      "name": "python3"
    },
    "language_info": {
      "pygments_lexer": "ipython3",
      "nbconvert_exporter": "python",
      "version": "3.6.4",
      "file_extension": ".py",
      "codemirror_mode": {
        "name": "ipython",
        "version": 3
      },
      "name": "python",
      "mimetype": "text/x-python"
    },
    "colab": {
      "provenance": []
    }
  },
  "nbformat": 4,
  "nbformat_minor": 0
}