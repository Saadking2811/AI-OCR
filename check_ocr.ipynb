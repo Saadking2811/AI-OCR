{
  "nbformat": 4,
  "nbformat_minor": 0,
  "metadata": {
    "colab": {
      "provenance": []
    },
    "kernelspec": {
      "name": "python3",
      "display_name": "Python 3"
    },
    "language_info": {
      "name": "python"
    }
  },
  "cells": [
    {
      "cell_type": "code",
      "source": [
        "!pip install google-cloud-vision"
      ],
      "metadata": {
        "colab": {
          "base_uri": "https://localhost:8080/"
        },
        "id": "DJyQ_mRLHwG1",
        "outputId": "385faf7d-6eb7-4c7c-9711-2c1036dc53b3"
      },
      "execution_count": null,
      "outputs": [
        {
          "output_type": "stream",
          "name": "stdout",
          "text": [
            "Requirement already satisfied: google-cloud-vision in /usr/local/lib/python3.10/dist-packages (3.8.1)\n",
            "Requirement already satisfied: google-api-core!=2.0.*,!=2.1.*,!=2.10.*,!=2.2.*,!=2.3.*,!=2.4.*,!=2.5.*,!=2.6.*,!=2.7.*,!=2.8.*,!=2.9.*,<3.0.0dev,>=1.34.1 in /usr/local/lib/python3.10/dist-packages (from google-api-core[grpc]!=2.0.*,!=2.1.*,!=2.10.*,!=2.2.*,!=2.3.*,!=2.4.*,!=2.5.*,!=2.6.*,!=2.7.*,!=2.8.*,!=2.9.*,<3.0.0dev,>=1.34.1->google-cloud-vision) (2.19.2)\n",
            "Requirement already satisfied: google-auth!=2.24.0,!=2.25.0,<3.0.0dev,>=2.14.1 in /usr/local/lib/python3.10/dist-packages (from google-cloud-vision) (2.27.0)\n",
            "Requirement already satisfied: proto-plus<2.0.0dev,>=1.22.3 in /usr/local/lib/python3.10/dist-packages (from google-cloud-vision) (1.25.0)\n",
            "Requirement already satisfied: protobuf!=4.21.0,!=4.21.1,!=4.21.2,!=4.21.3,!=4.21.4,!=4.21.5,<6.0.0dev,>=3.20.2 in /usr/local/lib/python3.10/dist-packages (from google-cloud-vision) (4.25.5)\n",
            "Requirement already satisfied: googleapis-common-protos<2.0.dev0,>=1.56.2 in /usr/local/lib/python3.10/dist-packages (from google-api-core!=2.0.*,!=2.1.*,!=2.10.*,!=2.2.*,!=2.3.*,!=2.4.*,!=2.5.*,!=2.6.*,!=2.7.*,!=2.8.*,!=2.9.*,<3.0.0dev,>=1.34.1->google-api-core[grpc]!=2.0.*,!=2.1.*,!=2.10.*,!=2.2.*,!=2.3.*,!=2.4.*,!=2.5.*,!=2.6.*,!=2.7.*,!=2.8.*,!=2.9.*,<3.0.0dev,>=1.34.1->google-cloud-vision) (1.66.0)\n",
            "Requirement already satisfied: requests<3.0.0.dev0,>=2.18.0 in /usr/local/lib/python3.10/dist-packages (from google-api-core!=2.0.*,!=2.1.*,!=2.10.*,!=2.2.*,!=2.3.*,!=2.4.*,!=2.5.*,!=2.6.*,!=2.7.*,!=2.8.*,!=2.9.*,<3.0.0dev,>=1.34.1->google-api-core[grpc]!=2.0.*,!=2.1.*,!=2.10.*,!=2.2.*,!=2.3.*,!=2.4.*,!=2.5.*,!=2.6.*,!=2.7.*,!=2.8.*,!=2.9.*,<3.0.0dev,>=1.34.1->google-cloud-vision) (2.32.3)\n",
            "Requirement already satisfied: grpcio<2.0dev,>=1.33.2 in /usr/local/lib/python3.10/dist-packages (from google-api-core[grpc]!=2.0.*,!=2.1.*,!=2.10.*,!=2.2.*,!=2.3.*,!=2.4.*,!=2.5.*,!=2.6.*,!=2.7.*,!=2.8.*,!=2.9.*,<3.0.0dev,>=1.34.1->google-cloud-vision) (1.68.0)\n",
            "Requirement already satisfied: grpcio-status<2.0.dev0,>=1.33.2 in /usr/local/lib/python3.10/dist-packages (from google-api-core[grpc]!=2.0.*,!=2.1.*,!=2.10.*,!=2.2.*,!=2.3.*,!=2.4.*,!=2.5.*,!=2.6.*,!=2.7.*,!=2.8.*,!=2.9.*,<3.0.0dev,>=1.34.1->google-cloud-vision) (1.62.3)\n",
            "Requirement already satisfied: cachetools<6.0,>=2.0.0 in /usr/local/lib/python3.10/dist-packages (from google-auth!=2.24.0,!=2.25.0,<3.0.0dev,>=2.14.1->google-cloud-vision) (5.5.0)\n",
            "Requirement already satisfied: pyasn1-modules>=0.2.1 in /usr/local/lib/python3.10/dist-packages (from google-auth!=2.24.0,!=2.25.0,<3.0.0dev,>=2.14.1->google-cloud-vision) (0.4.1)\n",
            "Requirement already satisfied: rsa<5,>=3.1.4 in /usr/local/lib/python3.10/dist-packages (from google-auth!=2.24.0,!=2.25.0,<3.0.0dev,>=2.14.1->google-cloud-vision) (4.9)\n",
            "Requirement already satisfied: pyasn1<0.7.0,>=0.4.6 in /usr/local/lib/python3.10/dist-packages (from pyasn1-modules>=0.2.1->google-auth!=2.24.0,!=2.25.0,<3.0.0dev,>=2.14.1->google-cloud-vision) (0.6.1)\n",
            "Requirement already satisfied: charset-normalizer<4,>=2 in /usr/local/lib/python3.10/dist-packages (from requests<3.0.0.dev0,>=2.18.0->google-api-core!=2.0.*,!=2.1.*,!=2.10.*,!=2.2.*,!=2.3.*,!=2.4.*,!=2.5.*,!=2.6.*,!=2.7.*,!=2.8.*,!=2.9.*,<3.0.0dev,>=1.34.1->google-api-core[grpc]!=2.0.*,!=2.1.*,!=2.10.*,!=2.2.*,!=2.3.*,!=2.4.*,!=2.5.*,!=2.6.*,!=2.7.*,!=2.8.*,!=2.9.*,<3.0.0dev,>=1.34.1->google-cloud-vision) (3.4.0)\n",
            "Requirement already satisfied: idna<4,>=2.5 in /usr/local/lib/python3.10/dist-packages (from requests<3.0.0.dev0,>=2.18.0->google-api-core!=2.0.*,!=2.1.*,!=2.10.*,!=2.2.*,!=2.3.*,!=2.4.*,!=2.5.*,!=2.6.*,!=2.7.*,!=2.8.*,!=2.9.*,<3.0.0dev,>=1.34.1->google-api-core[grpc]!=2.0.*,!=2.1.*,!=2.10.*,!=2.2.*,!=2.3.*,!=2.4.*,!=2.5.*,!=2.6.*,!=2.7.*,!=2.8.*,!=2.9.*,<3.0.0dev,>=1.34.1->google-cloud-vision) (3.10)\n",
            "Requirement already satisfied: urllib3<3,>=1.21.1 in /usr/local/lib/python3.10/dist-packages (from requests<3.0.0.dev0,>=2.18.0->google-api-core!=2.0.*,!=2.1.*,!=2.10.*,!=2.2.*,!=2.3.*,!=2.4.*,!=2.5.*,!=2.6.*,!=2.7.*,!=2.8.*,!=2.9.*,<3.0.0dev,>=1.34.1->google-api-core[grpc]!=2.0.*,!=2.1.*,!=2.10.*,!=2.2.*,!=2.3.*,!=2.4.*,!=2.5.*,!=2.6.*,!=2.7.*,!=2.8.*,!=2.9.*,<3.0.0dev,>=1.34.1->google-cloud-vision) (2.2.3)\n",
            "Requirement already satisfied: certifi>=2017.4.17 in /usr/local/lib/python3.10/dist-packages (from requests<3.0.0.dev0,>=2.18.0->google-api-core!=2.0.*,!=2.1.*,!=2.10.*,!=2.2.*,!=2.3.*,!=2.4.*,!=2.5.*,!=2.6.*,!=2.7.*,!=2.8.*,!=2.9.*,<3.0.0dev,>=1.34.1->google-api-core[grpc]!=2.0.*,!=2.1.*,!=2.10.*,!=2.2.*,!=2.3.*,!=2.4.*,!=2.5.*,!=2.6.*,!=2.7.*,!=2.8.*,!=2.9.*,<3.0.0dev,>=1.34.1->google-cloud-vision) (2024.8.30)\n"
          ]
        }
      ]
    },
    {
      "cell_type": "code",
      "execution_count": null,
      "metadata": {
        "colab": {
          "base_uri": "https://localhost:8080/"
        },
        "id": "vUgkyfVoHrXc",
        "outputId": "3d6e2e47-2c3e-45ee-e8d7-f7240a5f5bd8"
      },
      "outputs": [
        {
          "output_type": "stream",
          "name": "stdout",
          "text": [
            "\n",
            "Extracted Cheque Details:\n",
            "Number: 00799999002569681332\n",
            "Date: 02/12/2024\n",
            "Amount: 2000\n",
            "Name: M.KHELIL FOUAD\n"
          ]
        }
      ],
      "source": [
        "import os\n",
        "import re\n",
        "from google.cloud import vision\n",
        "\n",
        "# Set up Google Vision API authentication\n",
        "os.environ['GOOGLE_APPLICATION_CREDENTIALS'] = 'vision_key.json'\n",
        "\n",
        "\n",
        "def extract_cheque_details(detected_text):\n",
        "    \"\"\"Extract specific details from the cheque's OCR text.\"\"\"\n",
        "    cheque_details = {}\n",
        "\n",
        "    # Extract the number starting with \"00799999\"\n",
        "    number_match = re.search(r'00799999\\d+', detected_text)\n",
        "    cheque_details['number'] = number_match.group() if number_match else None\n",
        "\n",
        "    date_match = re.search(r'(?:في|Le)\\s*(\\d{1,2}[-./]\\d{1,2}[-./]\\d{4})', detected_text)\n",
        "    cheque_details['date']= date_match.group(1) if date_match else None\n",
        "\n",
        "    # Extract the amount (before or after \"إدفعوا مقابل هذا الصك\" or \"Payez, contre ce chèque\")\n",
        "    amount_match = re.search(r'(?:DA)\\s*(\\d+)|(\\d+)\\s*(?:دج)', detected_text)\n",
        "    cheque_details['amount'] = amount_match.group(1) if amount_match else None\n",
        "\n",
        "    # Extract the name (assume it's in a recognizable pattern like \"M.KHELIL FOUAD\")\n",
        "    name_match = re.search(r'M\\.KHELIL FOUAD', detected_text)\n",
        "    cheque_details['name'] = name_match.group() if name_match else None\n",
        "\n",
        "    return cheque_details\n",
        "\n",
        "def extract_cheque_data(path , extract_cheque_details):\n",
        "    \"\"\"Perform OCR on a cheque and extract specific details.\"\"\"\n",
        "    # Initialize the Vision API client\n",
        "    client = vision.ImageAnnotatorClient()\n",
        "\n",
        "    # Load the image\n",
        "    with open(path, \"rb\") as image_file:\n",
        "        content = image_file.read()\n",
        "\n",
        "    # Create an Image object\n",
        "    image = vision.Image(content=content)\n",
        "\n",
        "    # Perform text detection\n",
        "    response = client.document_text_detection(image=image)\n",
        "    annotations = response.full_text_annotation\n",
        "\n",
        "    if not annotations.text:\n",
        "        print(\"No text detected.\")\n",
        "        return None\n",
        "\n",
        "    # Extract the detected text\n",
        "    detected_text = annotations.text\n",
        "\n",
        "    a=extract_cheque_details(detected_text)\n",
        "\n",
        "    return a\n",
        "\n",
        "\n",
        "if __name__ == \"__main__\":\n",
        "    # Path to the cheque image\n",
        "    cheque_image_path = r'ccp.png'\n",
        "\n",
        "    # Extract cheque data\n",
        "    cheque_details = extract_cheque_data(cheque_image_path,extract_cheque_details)\n",
        "\n",
        "    if cheque_details:\n",
        "        print(\"\\nExtracted Cheque Details:\")\n",
        "        for key, value in cheque_details.items():\n",
        "            print(f\"{key.capitalize()}: {value}\")\n"
      ]
    },
    {
      "cell_type": "code",
      "source": [
        "def extract_residence(detected_text):\n",
        "  #the template of extraction here\n",
        "  return detected_text\n",
        "\n",
        "cheque_details = extract_cheque_data('residence.jpg', extract_residence)\n",
        "q=cheque_details\n",
        "q"
      ],
      "metadata": {
        "colab": {
          "base_uri": "https://localhost:8080/",
          "height": 88
        },
        "id": "pvyha9ejdiT2",
        "outputId": "0595a2f2-9810-40c0-d7c4-8a20924bdc01"
      },
      "execution_count": null,
      "outputs": [
        {
          "output_type": "execute_result",
          "data": {
            "text/plain": [
              "'وزارة الداخلية\\nولاية الجزائر\\nدائرة الشراقة\\nبلدية الحمامات\\nالجمهورية الجزائرية الديمقراطية الشعبية\\nبطاقة إقامة\\nنَحْنُ\\n61820060761605A6E7855CE7117303\\nمنصوري\\nتو فيق\\nرئيس المجلس الشعبي البلدي لبلدية : الحمامات\\nنَشْهَدُ بأن:\\nالسيد\\nبرحال محمد ساعد\\nالمولود بـ الأبيار\\nبتاريخ 1997/06/19\\nالجنسية\\nالمهنة\\n************\\nالسكن حي 502 مسكن عمارة ب 21 رقم 06 الحمامات الجزائر\\nيقيم بنفس العنوان مُند أكثرَ مِن سِتَّةِ (6) أشهرٍ\\nوقد سلمت له هَذِهِ الشَّهادَة لِلإدلاء بها في حدودِ ما يَسْمَحُ بِهِ القانون\\nحرره\\nالحمامات\\nبتاريخ (1)\\nوَالغَرضُ مِنْ مَنحِ هَذِهِ الشَّهَادَةِ هُوَ إثْبَات السكن\\n2019/11/12\\n(٢) إِنَّ صَلاحِيَّة العَمَل بهذهِ الشَّهادَةِ لا يُمكن أن تتجاوز سنة (6) أشهر\\nالكتابة السابقة للإسم و اللقب\\nالحالة المدنية\\nالبلدي\\nمنه\\nBERRAHAL MOHAMED SAAD'"
            ],
            "application/vnd.google.colaboratory.intrinsic+json": {
              "type": "string"
            }
          },
          "metadata": {},
          "execution_count": 69
        }
      ]
    },
    {
      "cell_type": "code",
      "source": [],
      "metadata": {
        "id": "g7kPDx38lm3x"
      },
      "execution_count": null,
      "outputs": []
    }
  ]
}